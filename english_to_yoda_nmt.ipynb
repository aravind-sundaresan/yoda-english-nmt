{
  "nbformat": 4,
  "nbformat_minor": 0,
  "metadata": {
    "colab": {
      "name": "english-to-yoda-nmt",
      "provenance": [],
      "collapsed_sections": [],
      "authorship_tag": "ABX9TyMb1GqF1RifSFt1XqAd37Qj",
      "include_colab_link": true
    },
    "kernelspec": {
      "name": "python3",
      "display_name": "Python 3"
    }
  },
  "cells": [
    {
      "cell_type": "markdown",
      "metadata": {
        "id": "view-in-github",
        "colab_type": "text"
      },
      "source": [
        "<a href=\"https://colab.research.google.com/github/aravind-sundaresan/yoda-english-nmt/blob/master/english_to_yoda_nmt.ipynb\" target=\"_parent\"><img src=\"https://colab.research.google.com/assets/colab-badge.svg\" alt=\"Open In Colab\"/></a>"
      ]
    },
    {
      "cell_type": "code",
      "metadata": {
        "id": "ST_KwDrN3PIw",
        "colab_type": "code",
        "colab": {
          "base_uri": "https://localhost:8080/",
          "height": 34
        },
        "outputId": "533a2d1c-db48-43e3-d8d9-6f7d2546e1dc"
      },
      "source": [
        "from google.colab import drive\n",
        "drive.mount('/drive')"
      ],
      "execution_count": 100,
      "outputs": [
        {
          "output_type": "stream",
          "text": [
            "Drive already mounted at /drive; to attempt to forcibly remount, call drive.mount(\"/drive\", force_remount=True).\n"
          ],
          "name": "stdout"
        }
      ]
    },
    {
      "cell_type": "markdown",
      "metadata": {
        "id": "jKQSMCyh42uU",
        "colab_type": "text"
      },
      "source": [
        "**Data Preparation**"
      ]
    },
    {
      "cell_type": "code",
      "metadata": {
        "id": "_i0tzJJ_50Xg",
        "colab_type": "code",
        "colab": {}
      },
      "source": [
        "# Create 2 dictionaries each (word-index and index-word) for the source and target languages\n",
        "\n",
        "with open('/drive/My Drive/data/english_vocabulary.txt', 'r') as f:\n",
        "  words = f.readlines()\n",
        "\n",
        "english_index_to_word_dict = dict([(index, word.rstrip('\\n')) for index, word in enumerate(words)])\n",
        "english_word_to_index_dict = dict([(word.rstrip('\\n'), index) for index, word in enumerate(words)])\n",
        "english_vocab_length = len(english_word_to_index_dict)\n",
        "\n",
        "\n",
        "with open('/drive/My Drive/data/yoda_vocabulary.txt', 'r') as f:\n",
        "  words = f.readlines()\n",
        "\n",
        "yoda_index_to_word_dict = dict([(index, word.rstrip('\\n')) for index, word in enumerate(words)])\n",
        "yoda_word_to_index_dict = dict([(word.rstrip('\\n'), index) for index, word in enumerate(words)])\n",
        "yoda_vocab_length = len(yoda_word_to_index_dict)\n",
        "\n",
        "\n",
        "# Limiting the lengths of the sequences (in terms of number of words) in both the source and target languages \n",
        "# For source language, max. length = 15 (97% of the sentences have length <= 15)\n",
        "# For target language, max. length = 20 (97% of the sentence have length <= 20)\n",
        "\n",
        "max_length_source, max_length_target = 15, 20 \n",
        "\n",
        "english_sentences, yoda_english_sentences = [], []\n",
        "with open('/drive/My Drive/data/english_sentences.txt', 'r') as fp: \n",
        "  line = fp.readline()\n",
        "  while line:\n",
        "    english_sentences.append(line.rstrip(\"\\n\"))\n",
        "    line = fp.readline()\n",
        "\n",
        "# Adding the start and end tokens to the target sentences\n",
        "with open('/drive/My Drive/data/yoda_english_sentences.txt', 'r') as fp:\n",
        "  line = fp.readline()\n",
        "  while line:\n",
        "    yoda_english_sentences.append(\"1 \" + line.rstrip(\"\\n\") + \" 2\")\n",
        "    line = fp.readline() \n"
      ],
      "execution_count": 0,
      "outputs": []
    },
    {
      "cell_type": "code",
      "metadata": {
        "id": "Draorvol2Bc3",
        "colab_type": "code",
        "colab": {
          "base_uri": "https://localhost:8080/",
          "height": 102
        },
        "outputId": "088dd7f9-0f93-4f65-ab54-856c0aa5ca28"
      },
      "source": [
        "yoda_english_sentences[:5]"
      ],
      "execution_count": 102,
      "outputs": [
        {
          "output_type": "execute_result",
          "data": {
            "text/plain": [
              "['1 7690 5 68 22 5 36 34 2',\n",
              " '1 17935 5 13647 930 930 987 68 22 5 36 34 12 5 14 4 2',\n",
              " '1 25 1729 7 89627 66587 362 55 23813 204 9 2',\n",
              " '1 622 5 273 27 5 36 34 13 4 2',\n",
              " '1 1326 5 491 492 92 1205 5 36 34 2']"
            ]
          },
          "metadata": {
            "tags": []
          },
          "execution_count": 102
        }
      ]
    },
    {
      "cell_type": "code",
      "metadata": {
        "id": "r46ISmfb2xK3",
        "colab_type": "code",
        "colab": {
          "base_uri": "https://localhost:8080/",
          "height": 102
        },
        "outputId": "20fb7f4e-adf4-4811-c039-ca5c97e2408b"
      },
      "source": [
        "english_sentences[:5]"
      ],
      "execution_count": 103,
      "outputs": [
        {
          "output_type": "execute_result",
          "data": {
            "text/plain": [
              "['59 19 2359 27',\n",
              " '18506 882 882 2558 59 19 12022 27',\n",
              " '65 59177 428 14 2269 10 96825 72439 550 7',\n",
              " '422 23 161 27',\n",
              " '843 593 161 1256 39 27']"
            ]
          },
          "metadata": {
            "tags": []
          },
          "execution_count": 103
        }
      ]
    },
    {
      "cell_type": "code",
      "metadata": {
        "id": "1s8weGkM5vJc",
        "colab_type": "code",
        "colab": {}
      },
      "source": [
        ""
      ],
      "execution_count": 0,
      "outputs": []
    }
  ]
}