{
 "cells": [
  {
   "cell_type": "code",
   "execution_count": 2,
   "metadata": {},
   "outputs": [],
   "source": [
    "import numpy as np\n",
    "import pandas as pd\n",
    "import tensorflow as tf\n",
    "from sklearn.model_selection import train_test_split\n",
    "from tensorflow.keras.layers import Input, LSTM, Embedding, Dense\n",
    "import pydot\n",
    "import graphviz"
   ]
  },
  {
   "cell_type": "markdown",
   "metadata": {},
   "source": [
    "## Data Preparation "
   ]
  },
  {
   "cell_type": "code",
   "execution_count": 3,
   "metadata": {},
   "outputs": [],
   "source": [
    "# Creating 2 dictionaries each (word-index and index-word) for the source and target languages\n",
    "\n",
    "with open('../data/english_vocabulary.txt', 'r') as f:\n",
    "  words = f.readlines()\n",
    "\n",
    "english_index_to_word_dict = dict([(index, word.rstrip('\\n')) for index, word in enumerate(words)])\n",
    "english_word_to_index_dict = dict([(word.rstrip('\\n'), index) for index, word in enumerate(words)])\n",
    "\n",
    "with open('../data/yoda_vocabulary.txt', 'r') as f:\n",
    "  words = f.readlines()\n",
    "\n",
    "yoda_index_to_word_dict = dict([(index, word.rstrip('\\n')) for index, word in enumerate(words)])\n",
    "yoda_word_to_index_dict = dict([(word.rstrip('\\n'), index) for index, word in enumerate(words)])\n",
    "\n",
    "# Obtaining the number of unique tokens in each vocabulary\n",
    "english_vocab_length = len(english_word_to_index_dict)\n",
    "yoda_vocab_length = len(yoda_word_to_index_dict)\n",
    "\n",
    "'''\n",
    "Limiting the lengths of the sequences (in terms of number of words) in both the source and target languages \n",
    "For source language, max. length = 15 (97% of the sentences have length <= 15)\n",
    "For target language, max. length = 20 (97% of the sentence have length <= 20)\n",
    "'''\n",
    "max_length_source, max_length_target = 15, 20 \n",
    "\n",
    "english_sentences, yoda_english_sentences = [], []\n",
    "with open('../data/english_sentences.txt', 'r') as fp: \n",
    "  line = fp.readline()\n",
    "  while line:\n",
    "    line = line.rstrip(\"\\n\")\n",
    "    english_sentences.append([int(token) for token in line.split(\" \")])\n",
    "    line = fp.readline()\n",
    "\n",
    "with open('../data/yoda_english_sentences.txt', 'r') as fp:\n",
    "  line = fp.readline()\n",
    "  while line:\n",
    "    # Adding the start and end tokens to the target sentences\n",
    "    line = \"1 \" + line.rstrip(\"\\n\") + \" 2\"\n",
    "    yoda_english_sentences.append([int(token) for token in line.split(\" \")])\n",
    "    line = fp.readline() \n",
    "\n",
    "\n",
    "# Padding the source and target sentences to ensure that all of them have the same length\n",
    "encoder_input_data = tf.keras.preprocessing.sequence.pad_sequences(english_sentences, maxlen=max_length_source, padding='post')\n",
    "decoder_input_data = tf.keras.preprocessing.sequence.pad_sequences(yoda_english_sentences, maxlen=max_length_target, padding='post')\n",
    "\n",
    "# Splitting the data into training, validation/dev and test sets\n",
    "encoder_input_train, encoder_input_test, decoder_input_train, decoder_input_test = train_test_split(encoder_input_data, decoder_input_data, test_size=0.1)\n",
    "encoder_input_train, encoder_input_val, decoder_input_train, decoder_input_val = train_test_split(encoder_input_train, decoder_input_train, test_size=0.1)\n"
   ]
  },
  {
   "cell_type": "code",
   "execution_count": 45,
   "metadata": {},
   "outputs": [],
   "source": [
    "def generate_batch(X, y, batch_size=256):\n",
    "    # Function to generate a batch of training examples using a generator object because the dataset is too large to fit into memory\n",
    "    while True:\n",
    "        for i in range(0, len(X), batch_size):            \n",
    "            encoder_input_data = X[i:i+batch_size]\n",
    "            decoder_input_data = y[i:i+batch_size]\n",
    "            \n",
    "            '''\n",
    "             The output of the decoder uses the one-hot representation of each word in a sentence because the output of the seq2seq model\n",
    "             is obtained from a softmax unit. \n",
    "             The size of the decoder output sentence would be (max_length_target, yoda_vocab_length).\n",
    "             The decoder output does not start with the \"_GO\" token. The rest of the content is the same as that of decoder input. \n",
    "             So the decoder output can be defined as the decoder input shifted or offset by one timestep.\n",
    "            '''\n",
    "            decoder_output_data = np.zeros((batch_size, max_length_target, yoda_vocab_length), dtype='float32')\n",
    "\n",
    "            for j in range(len(decoder_input_data)):\n",
    "                for k in range(1, max_length_target):\n",
    "                    decoder_output_data[j, k-1, decoder_input_data[j, k]] = 1\n",
    "            \n",
    "            yield([encoder_input_data, decoder_input_data], decoder_output_data)"
   ]
  },
  {
   "cell_type": "code",
   "execution_count": 3,
   "metadata": {},
   "outputs": [],
   "source": [
    "'''\n",
    " The output of the decoder uses the one-hot representation of each word in a sentence because the output of the seq2seq model\n",
    " is obtained from a softmax unit. \n",
    " The size of the decoder output sentence would be (max_length_target, yoda_vocab_length).\n",
    " The decoder output does not start with the \"_GO\" token. The rest of the content is the same as that of decoder input. \n",
    " So the decoder output can be defined as the decoder input shifted or offset by one timestep.\n",
    "\n",
    "def generate_decoder_output(decoder_input_data):\n",
    "    \n",
    "    number_of_sentences = len(decoder_input_data)\n",
    "    decoder_output_data = np.zeros((number_of_sentences, max_length_target, yoda_vocab_length), dtype='float32')\n",
    "\n",
    "    for i in range(number_of_sentences):\n",
    "        for j in range(1, max_length_target):\n",
    "            decoder_output_data[i, j - 1, decoder_input_data[i, j]] = 1\n",
    "\n",
    "    \n",
    "    return decoder_output_data\n",
    "\n",
    "# Generating the output data for the train, validation and test sets\n",
    "decoder_output_test = generate_decoder_output(decoder_input_test)\n",
    "decoder_output_val = generate_decoder_output(decoder_input_val)\n",
    "decoder_output_train = generate_decoder_output(decoder_input_train)'''"
   ]
  },
  {
   "cell_type": "markdown",
   "metadata": {},
   "source": [
    "## Building the Model"
   ]
  },
  {
   "cell_type": "code",
   "execution_count": 46,
   "metadata": {},
   "outputs": [],
   "source": [
    "# Size of word embeddings\n",
    "embedding_dimensions = 50\n",
    "\n",
    "encoder_input = Input(shape=(None,))\n",
    "\n",
    "# Embeddings of the English words fed as input to the encoder network\n",
    "encoder_embeddings = Embedding(english_vocab_length, embedding_dimensions)(encoder_input)\n",
    "\n",
    "# Encoder LSTM layer\n",
    "encoder_lstm = LSTM(embedding_dimensions, return_state=True)\n",
    "encoder_output, encoder_hidden_state, encoder_cell_state = encoder_lstm(encoder_embeddings)\n",
    "\n",
    "# The encoder outputs are discarded and only the hidden and cell states of the encoder are retained\n",
    "encoder_states = [encoder_hidden_state, encoder_cell_state]\n",
    "\n",
    "# Setting up the decoder. The initial state of the decoder is obtained from the encoder_states.\n",
    "\n",
    "decoder_input = Input(shape=(None,))\n",
    "\n",
    "# Embeddings of the Yoda English words fed as input to the decoder network\n",
    "decoder_embeddings = Embedding(yoda_vocab_length, embedding_dimensions)(decoder_input)\n",
    "\n",
    "# Decoder LSTM layer\n",
    "decoder_lstm = LSTM(embedding_dimensions, return_sequences=True, return_state=True)\n",
    "\n",
    "decoder_output, _, _ = decoder_lstm(decoder_embeddings, initial_state=encoder_states)\n",
    "\n",
    "# Using a softmax unit to generate a probability distribution over the target vocabulary for each time step\n",
    "decoder_dense = Dense(yoda_vocab_length, activation='softmax')\n",
    "decoder_output = decoder_dense(decoder_output)\n",
    "\n",
    "# Defining the model\n",
    "model = tf.keras.Model([encoder_input, decoder_input], decoder_output)\n",
    "# Compiling the model\n",
    "model.compile(optimizer='rmsprop', loss='categorical_crossentropy', metrics=['acc'])"
   ]
  },
  {
   "cell_type": "code",
   "execution_count": 47,
   "metadata": {},
   "outputs": [
    {
     "data": {
      "image/png": "[encoded data removed]",
      "text/plain": [
       "<IPython.core.display.Image object>"
      ]
     },
     "execution_count": 47,
     "metadata": {},
     "output_type": "execute_result"
    }
   ],
   "source": [
    "tf.keras.utils.plot_model(model)"
   ]
  },
  {
   "cell_type": "code",
   "execution_count": 61,
   "metadata": {
    "collapsed": true
   },
   "outputs": [
    {
     "name": "stdout",
     "output_type": "stream",
     "text": [
      "Epoch 1/2\n",
      "10/10 [==============================] - 138s 14s/step - loss: 5.3547 - acc: 0.0790 - val_loss: 5.3125 - val_acc: 0.0830\n",
      "Epoch 2/2\n",
      "10/10 [==============================] - 119s 12s/step - loss: 4.9836 - acc: 0.2789 - val_loss: 5.0015 - val_acc: 0.4121\n"
     ]
    },
    {
     "data": {
      "text/plain": [
       "<tensorflow.python.keras.callbacks.History at 0x7fac75186ed0>"
      ]
     },
     "execution_count": 61,
     "metadata": {},
     "output_type": "execute_result"
    }
   ],
   "source": [
    "training_set_size = len(encoder_input_train)\n",
    "validation_set_size = len(encoder_input_val)\n",
    "batch_size = 256\n",
    "epochs = 2\n",
    "\n",
    "model.fit_generator(generator=generate_batch(encoder_input_train, decoder_input_train, batch_size=batch_size),\n",
    "                    steps_per_epoch=training_set_size//batch_size,\n",
    "                    epochs=epochs,\n",
    "                    validation_data=generate_batch(encoder_input_val, decoder_input_val, batch_size=batch_size),\n",
    "                    validation_steps=validation_set_size//batch_size)"
   ]
  }
 ],
 "metadata": {
  "kernelspec": {
   "display_name": "Python 3",
   "language": "python",
   "name": "python3"
  },
  "language_info": {
   "codemirror_mode": {
    "name": "ipython",
    "version": 3
   },
   "file_extension": ".py",
   "mimetype": "text/x-python",
   "name": "python",
   "nbconvert_exporter": "python",
   "pygments_lexer": "ipython3",
   "version": "3.7.6"
  }
 },
 "nbformat": 4,
 "nbformat_minor": 2
}
