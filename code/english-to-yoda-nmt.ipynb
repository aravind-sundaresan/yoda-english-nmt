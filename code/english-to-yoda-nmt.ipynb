{
 "cells": [
  {
   "cell_type": "code",
<<<<<<< HEAD
   "execution_count": 7,
=======
   "execution_count": 2,
>>>>>>> 3f7f041885a6ffb3996fa5c2424ced5e93059e78
   "metadata": {},
   "outputs": [],
   "source": [
    "import numpy as np\n",
    "import tensorflow as tf\n",
    "from sklearn.model_selection import train_test_split\n",
    "from tensorflow.keras import Modeldel\n",
    "from tensorflow.keras.layers import Input, LSTM, Embedding, Dense\n",
    "import pydot\n",
    "import graphviz"
   ]
  },
  {
   "cell_type": "markdown",
   "metadata": {},
   "source": [
    "## Data Preparation "
   ]
  },
  {
   "cell_type": "code",
   "execution_count": 3,
   "metadata": {},
   "outputs": [],
   "source": [
    "# Creating 2 dictionaries each (word-index and index-word) for the source and target languages\n",
    "\n",
    "with open('../data/english_vocabulary.txt', 'r') as f:\n",
    "  words = f.readlines()\n",
    "\n",
    "english_index_to_word_dict = dict([(index, word.rstrip('\\n')) for index, word in enumerate(words)])\n",
    "english_word_to_index_dict = dict([(word.rstrip('\\n'), index) for index, word in enumerate(words)])\n",
    "\n",
    "with open('../data/yoda_vocabulary.txt', 'r') as f:\n",
    "  words = f.readlines()\n",
    "\n",
    "yoda_index_to_word_dict = dict([(index, word.rstrip('\\n')) for index, word in enumerate(words)])\n",
    "yoda_word_to_index_dict = dict([(word.rstrip('\\n'), index) for index, word in enumerate(words)])\n",
    "\n",
    "# Obtaining the number of unique tokens in each vocabulary\n",
    "english_vocab_length = len(english_word_to_index_dict)\n",
    "yoda_vocab_length = len(yoda_word_to_index_dict)\n",
    "\n",
    "'''\n",
    "Limiting the lengths of the sequences (in terms of number of words) in both the source and target languages \n",
    "For source language, max. length = 15 (97% of the sentences have length <= 15)\n",
    "For target language, max. length = 20 (97% of the sentence have length <= 20)\n",
    "'''\n",
    "max_length_source, max_length_target = 15, 20 \n",
    "\n",
    "english_sentences, yoda_english_sentences = [], []\n",
    "with open('../data/english_sentences.txt', 'r') as fp: \n",
    "  line = fp.readline()\n",
    "  while line:\n",
    "    line = line.rstrip(\"\\n\")\n",
    "    english_sentences.append([int(token) for token in line.split(\" \")])\n",
    "    line = fp.readline()\n",
    "\n",
    "with open('../data/yoda_english_sentences.txt', 'r') as fp:\n",
    "  line = fp.readline()\n",
    "  while line:\n",
    "    # Adding the start and end tokens to the target sentences\n",
    "    line = \"1 \" + line.rstrip(\"\\n\") + \" 2\"\n",
    "    yoda_english_sentences.append([int(token) for token in line.split(\" \")])\n",
    "    line = fp.readline() \n",
    "\n",
    "\n",
    "# Padding the source and target sentences to ensure that all of them have the same length\n",
    "encoder_input_data = tf.keras.preprocessing.sequence.pad_sequences(english_sentences, maxlen=max_length_source, padding='post')\n",
    "decoder_input_data = tf.keras.preprocessing.sequence.pad_sequences(yoda_english_sentences, maxlen=max_length_target, padding='post')\n",
    "\n",
    "# Splitting the data into training, validation/dev and test sets\n",
    "encoder_input_train, encoder_input_test, decoder_input_train, decoder_input_test = train_test_split(encoder_input_data, decoder_input_data, test_size=0.1)\n",
    "encoder_input_train, encoder_input_val, decoder_input_train, decoder_input_val = train_test_split(encoder_input_train, decoder_input_train, test_size=0.1)\n"
   ]
  },
  {
   "cell_type": "code",
<<<<<<< HEAD
   "execution_count": 4,
=======
   "execution_count": 45,
   "metadata": {},
   "outputs": [],
   "source": [
    "def generate_batch(X, y, batch_size=256):\n",
    "    # Function to generate a batch of training examples using a generator object because the dataset is too large to fit into memory\n",
    "    while True:\n",
    "        for i in range(0, len(X), batch_size):            \n",
    "            encoder_input_data = X[i:i+batch_size]\n",
    "            decoder_input_data = y[i:i+batch_size]\n",
    "            \n",
    "            '''\n",
    "             The output of the decoder uses the one-hot representation of each word in a sentence because the output of the seq2seq model\n",
    "             is obtained from a softmax unit. \n",
    "             The size of the decoder output sentence would be (max_length_target, yoda_vocab_length).\n",
    "             The decoder output does not start with the \"_GO\" token. The rest of the content is the same as that of decoder input. \n",
    "             So the decoder output can be defined as the decoder input shifted or offset by one timestep.\n",
    "            '''\n",
    "            decoder_output_data = np.zeros((batch_size, max_length_target, yoda_vocab_length), dtype='float32')\n",
    "\n",
    "            for j in range(len(decoder_input_data)):\n",
    "                for k in range(1, max_length_target):\n",
    "                    decoder_output_data[j, k-1, decoder_input_data[j, k]] = 1\n",
    "            \n",
    "            yield([encoder_input_data, decoder_input_data], decoder_output_data)"
   ]
  },
  {
   "cell_type": "code",
   "execution_count": 3,
>>>>>>> 3f7f041885a6ffb3996fa5c2424ced5e93059e78
   "metadata": {},
   "outputs": [],
   "source": [
    "'''\n",
    " The output of the decoder uses the one-hot representation of each word in a sentence because the output of the seq2seq \n",
    " model is obtained from a softmax unit. \n",
    " The size of the decoder output sentence would be (max_length_target, yoda_vocab_length).\n",
    " The decoder output does not start with the \"_GO\" token. The rest of the content is the same as that of decoder input. \n",
    " So the decoder output can be defined as the decoder input shifted or offset by one timestep.\n",
    "\n",
    "def generate_decoder_output(decoder_input_data):\n",
    "    \n",
    "    number_of_sentences = len(decoder_input_data)\n",
    "    decoder_output_data = np.zeros((number_of_sentences, max_length_target, yoda_vocab_length), dtype='float32')\n",
    "\n",
    "    for i in range(number_of_sentences):\n",
    "        for j in range(1, max_length_target):\n",
    "            decoder_output_data[i, j - 1, decoder_input_data[i, j]] = 1\n",
    "\n",
    "    \n",
    "    return decoder_output_data\n",
    "\n",
    "# Generating the output data for the train, validation and test sets\n",
    "decoder_output_test = generate_decoder_output(decoder_input_test)\n",
    "decoder_output_val = generate_decoder_output(decoder_input_val)\n",
    "decoder_output_train = generate_decoder_output(decoder_input_train)'''"
   ]
  },
  {
   "cell_type": "markdown",
   "metadata": {},
   "source": [
    "## Building the Model"
   ]
  },
  {
   "cell_type": "code",
<<<<<<< HEAD
   "execution_count": 8,
=======
   "execution_count": 46,
>>>>>>> 3f7f041885a6ffb3996fa5c2424ced5e93059e78
   "metadata": {},
   "outputs": [],
   "source": [
    "# Size of word embeddings\n",
    "embedding_dimensions = 50\n",
    "\n",
    "encoder_input = Input(shape=(None,))\n",
    "\n",
    "# Embeddings of the English words fed as input to the encoder network\n",
    "encoder_embeddings = Embedding(english_vocab_length, embedding_dimensions)(encoder_input)\n",
    "\n",
    "# Encoder LSTM layer\n",
    "encoder_lstm = LSTM(embedding_dimensions, return_state=True)\n",
    "encoder_output, encoder_hidden_state, encoder_cell_state = encoder_lstm(encoder_embeddings)\n",
    "\n",
    "# The encoder outputs are discarded and only the hidden and cell states of the encoder are retained\n",
    "encoder_states = [encoder_hidden_state, encoder_cell_state]\n",
    "\n",
    "# Setting up the decoder. The initial state of the decoder is obtained from the encoder_states.\n",
    "\n",
    "decoder_input = Input(shape=(None,))\n",
    "\n",
    "# Embeddings of the Yoda English words fed as input to the decoder network\n",
    "decoder_embeddings = Embedding(yoda_vocab_length, embedding_dimensions)(decoder_input)\n",
    "\n",
    "# Decoder LSTM layer\n",
    "decoder_lstm = LSTM(embedding_dimensions, return_sequences=True, return_state=True)\n",
    "\n",
    "decoder_output, _, _ = decoder_lstm(decoder_embeddings, initial_state=encoder_states)\n",
    "\n",
    "# Using a softmax unit to generate a probability distribution over the target vocabulary for each time step\n",
    "decoder_dense = Dense(yoda_vocab_length, activation='softmax')\n",
    "decoder_output = decoder_dense(decoder_output)\n",
    "\n",
    "# Defining the model\n",
    "model = Model([encoder_input, decoder_input], decoder_output)\n",
    "# Compiling the model\n",
    "model.compile(optimizer='rmsprop', loss='categorical_crossentropy', metrics=['acc'])"
   ]
  },
  {
   "cell_type": "code",
<<<<<<< HEAD
   "execution_count": 9,
=======
   "execution_count": 47,
>>>>>>> 3f7f041885a6ffb3996fa5c2424ced5e93059e78
   "metadata": {},
   "outputs": [
    {
     "data": {
      "image/png": "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\n",
      "text/plain": [
       "<IPython.core.display.Image object>"
      ]
     },
<<<<<<< HEAD
     "execution_count": 9,
=======
     "execution_count": 47,
>>>>>>> 3f7f041885a6ffb3996fa5c2424ced5e93059e78
     "metadata": {},
     "output_type": "execute_result"
    }
   ],
   "source": [
    "tf.keras.utils.plot_model(model)"
   ]
  },
  {
   "cell_type": "code",
<<<<<<< HEAD
   "execution_count": 12,
=======
   "execution_count": 61,
>>>>>>> 3f7f041885a6ffb3996fa5c2424ced5e93059e78
   "metadata": {
    "collapsed": true
   },
   "outputs": [
    {
     "name": "stdout",
     "output_type": "stream",
     "text": [
      "Epoch 1/2\n",
      "10/10 [==============================] - 138s 14s/step - loss: 5.3547 - acc: 0.0790 - val_loss: 5.3125 - val_acc: 0.0830\n",
      "Epoch 2/2\n",
      "10/10 [==============================] - 119s 12s/step - loss: 4.9836 - acc: 0.2789 - val_loss: 5.0015 - val_acc: 0.4121\n"
     ]
    },
    {
<<<<<<< HEAD
     "ename": "KeyboardInterrupt",
     "evalue": "",
     "output_type": "error",
     "traceback": [
      "\u001b[0;31m---------------------------------------------------------------------------\u001b[0m",
      "\u001b[0;31mKeyboardInterrupt\u001b[0m                         Traceback (most recent call last)",
      "\u001b[0;32m<ipython-input-12-e35065f668a2>\u001b[0m in \u001b[0;36m<module>\u001b[0;34m\u001b[0m\n\u001b[1;32m      4\u001b[0m           \u001b[0mepochs\u001b[0m\u001b[0;34m=\u001b[0m\u001b[0;36m1\u001b[0m\u001b[0;34m,\u001b[0m\u001b[0;34m\u001b[0m\u001b[0;34m\u001b[0m\u001b[0m\n\u001b[1;32m      5\u001b[0m           \u001b[0mshuffle\u001b[0m\u001b[0;34m=\u001b[0m\u001b[0;32mTrue\u001b[0m\u001b[0;34m,\u001b[0m\u001b[0;34m\u001b[0m\u001b[0;34m\u001b[0m\u001b[0m\n\u001b[0;32m----> 6\u001b[0;31m           \u001b[0mvalidation_data\u001b[0m\u001b[0;34m=\u001b[0m\u001b[0;34m(\u001b[0m\u001b[0;34m[\u001b[0m\u001b[0mencoder_input_val\u001b[0m\u001b[0;34m,\u001b[0m \u001b[0mdecoder_input_val\u001b[0m\u001b[0;34m]\u001b[0m\u001b[0;34m,\u001b[0m \u001b[0mdecoder_output_val\u001b[0m\u001b[0;34m)\u001b[0m\u001b[0;34m\u001b[0m\u001b[0;34m\u001b[0m\u001b[0m\n\u001b[0m\u001b[1;32m      7\u001b[0m          )\n",
      "\u001b[0;32m/Users/Ares/anaconda3/lib/python3.7/site-packages/tensorflow/python/keras/engine/training.py\u001b[0m in \u001b[0;36m_method_wrapper\u001b[0;34m(self, *args, **kwargs)\u001b[0m\n\u001b[1;32m     64\u001b[0m   \u001b[0;32mdef\u001b[0m \u001b[0m_method_wrapper\u001b[0m\u001b[0;34m(\u001b[0m\u001b[0mself\u001b[0m\u001b[0;34m,\u001b[0m \u001b[0;34m*\u001b[0m\u001b[0margs\u001b[0m\u001b[0;34m,\u001b[0m \u001b[0;34m**\u001b[0m\u001b[0mkwargs\u001b[0m\u001b[0;34m)\u001b[0m\u001b[0;34m:\u001b[0m\u001b[0;34m\u001b[0m\u001b[0;34m\u001b[0m\u001b[0m\n\u001b[1;32m     65\u001b[0m     \u001b[0;32mif\u001b[0m \u001b[0;32mnot\u001b[0m \u001b[0mself\u001b[0m\u001b[0;34m.\u001b[0m\u001b[0m_in_multi_worker_mode\u001b[0m\u001b[0;34m(\u001b[0m\u001b[0;34m)\u001b[0m\u001b[0;34m:\u001b[0m  \u001b[0;31m# pylint: disable=protected-access\u001b[0m\u001b[0;34m\u001b[0m\u001b[0;34m\u001b[0m\u001b[0m\n\u001b[0;32m---> 66\u001b[0;31m       \u001b[0;32mreturn\u001b[0m \u001b[0mmethod\u001b[0m\u001b[0;34m(\u001b[0m\u001b[0mself\u001b[0m\u001b[0;34m,\u001b[0m \u001b[0;34m*\u001b[0m\u001b[0margs\u001b[0m\u001b[0;34m,\u001b[0m \u001b[0;34m**\u001b[0m\u001b[0mkwargs\u001b[0m\u001b[0;34m)\u001b[0m\u001b[0;34m\u001b[0m\u001b[0;34m\u001b[0m\u001b[0m\n\u001b[0m\u001b[1;32m     67\u001b[0m \u001b[0;34m\u001b[0m\u001b[0m\n\u001b[1;32m     68\u001b[0m     \u001b[0;31m# Running inside `run_distribute_coordinator` already.\u001b[0m\u001b[0;34m\u001b[0m\u001b[0;34m\u001b[0m\u001b[0;34m\u001b[0m\u001b[0m\n",
      "\u001b[0;32m/Users/Ares/anaconda3/lib/python3.7/site-packages/tensorflow/python/keras/engine/training.py\u001b[0m in \u001b[0;36mfit\u001b[0;34m(self, x, y, batch_size, epochs, verbose, callbacks, validation_split, validation_data, shuffle, class_weight, sample_weight, initial_epoch, steps_per_epoch, validation_steps, validation_batch_size, validation_freq, max_queue_size, workers, use_multiprocessing)\u001b[0m\n\u001b[1;32m    846\u001b[0m                 batch_size=batch_size):\n\u001b[1;32m    847\u001b[0m               \u001b[0mcallbacks\u001b[0m\u001b[0;34m.\u001b[0m\u001b[0mon_train_batch_begin\u001b[0m\u001b[0;34m(\u001b[0m\u001b[0mstep\u001b[0m\u001b[0;34m)\u001b[0m\u001b[0;34m\u001b[0m\u001b[0;34m\u001b[0m\u001b[0m\n\u001b[0;32m--> 848\u001b[0;31m               \u001b[0mtmp_logs\u001b[0m \u001b[0;34m=\u001b[0m \u001b[0mtrain_function\u001b[0m\u001b[0;34m(\u001b[0m\u001b[0miterator\u001b[0m\u001b[0;34m)\u001b[0m\u001b[0;34m\u001b[0m\u001b[0;34m\u001b[0m\u001b[0m\n\u001b[0m\u001b[1;32m    849\u001b[0m               \u001b[0;31m# Catch OutOfRangeError for Datasets of unknown size.\u001b[0m\u001b[0;34m\u001b[0m\u001b[0;34m\u001b[0m\u001b[0;34m\u001b[0m\u001b[0m\n\u001b[1;32m    850\u001b[0m               \u001b[0;31m# This blocks until the batch has finished executing.\u001b[0m\u001b[0;34m\u001b[0m\u001b[0;34m\u001b[0m\u001b[0;34m\u001b[0m\u001b[0m\n",
      "\u001b[0;32m/Users/Ares/anaconda3/lib/python3.7/site-packages/tensorflow/python/eager/def_function.py\u001b[0m in \u001b[0;36m__call__\u001b[0;34m(self, *args, **kwds)\u001b[0m\n\u001b[1;32m    578\u001b[0m         \u001b[0mxla_context\u001b[0m\u001b[0;34m.\u001b[0m\u001b[0mExit\u001b[0m\u001b[0;34m(\u001b[0m\u001b[0;34m)\u001b[0m\u001b[0;34m\u001b[0m\u001b[0;34m\u001b[0m\u001b[0m\n\u001b[1;32m    579\u001b[0m     \u001b[0;32melse\u001b[0m\u001b[0;34m:\u001b[0m\u001b[0;34m\u001b[0m\u001b[0;34m\u001b[0m\u001b[0m\n\u001b[0;32m--> 580\u001b[0;31m       \u001b[0mresult\u001b[0m \u001b[0;34m=\u001b[0m \u001b[0mself\u001b[0m\u001b[0;34m.\u001b[0m\u001b[0m_call\u001b[0m\u001b[0;34m(\u001b[0m\u001b[0;34m*\u001b[0m\u001b[0margs\u001b[0m\u001b[0;34m,\u001b[0m \u001b[0;34m**\u001b[0m\u001b[0mkwds\u001b[0m\u001b[0;34m)\u001b[0m\u001b[0;34m\u001b[0m\u001b[0;34m\u001b[0m\u001b[0m\n\u001b[0m\u001b[1;32m    581\u001b[0m \u001b[0;34m\u001b[0m\u001b[0m\n\u001b[1;32m    582\u001b[0m     \u001b[0;32mif\u001b[0m \u001b[0mtracing_count\u001b[0m \u001b[0;34m==\u001b[0m \u001b[0mself\u001b[0m\u001b[0;34m.\u001b[0m\u001b[0m_get_tracing_count\u001b[0m\u001b[0;34m(\u001b[0m\u001b[0;34m)\u001b[0m\u001b[0;34m:\u001b[0m\u001b[0;34m\u001b[0m\u001b[0;34m\u001b[0m\u001b[0m\n",
      "\u001b[0;32m/Users/Ares/anaconda3/lib/python3.7/site-packages/tensorflow/python/eager/def_function.py\u001b[0m in \u001b[0;36m_call\u001b[0;34m(self, *args, **kwds)\u001b[0m\n\u001b[1;32m    609\u001b[0m       \u001b[0;31m# In this case we have created variables on the first call, so we run the\u001b[0m\u001b[0;34m\u001b[0m\u001b[0;34m\u001b[0m\u001b[0;34m\u001b[0m\u001b[0m\n\u001b[1;32m    610\u001b[0m       \u001b[0;31m# defunned version which is guaranteed to never create variables.\u001b[0m\u001b[0;34m\u001b[0m\u001b[0;34m\u001b[0m\u001b[0;34m\u001b[0m\u001b[0m\n\u001b[0;32m--> 611\u001b[0;31m       \u001b[0;32mreturn\u001b[0m \u001b[0mself\u001b[0m\u001b[0;34m.\u001b[0m\u001b[0m_stateless_fn\u001b[0m\u001b[0;34m(\u001b[0m\u001b[0;34m*\u001b[0m\u001b[0margs\u001b[0m\u001b[0;34m,\u001b[0m \u001b[0;34m**\u001b[0m\u001b[0mkwds\u001b[0m\u001b[0;34m)\u001b[0m  \u001b[0;31m# pylint: disable=not-callable\u001b[0m\u001b[0;34m\u001b[0m\u001b[0;34m\u001b[0m\u001b[0m\n\u001b[0m\u001b[1;32m    612\u001b[0m     \u001b[0;32melif\u001b[0m \u001b[0mself\u001b[0m\u001b[0;34m.\u001b[0m\u001b[0m_stateful_fn\u001b[0m \u001b[0;32mis\u001b[0m \u001b[0;32mnot\u001b[0m \u001b[0;32mNone\u001b[0m\u001b[0;34m:\u001b[0m\u001b[0;34m\u001b[0m\u001b[0;34m\u001b[0m\u001b[0m\n\u001b[1;32m    613\u001b[0m       \u001b[0;31m# Release the lock early so that multiple threads can perform the call\u001b[0m\u001b[0;34m\u001b[0m\u001b[0;34m\u001b[0m\u001b[0;34m\u001b[0m\u001b[0m\n",
      "\u001b[0;32m/Users/Ares/anaconda3/lib/python3.7/site-packages/tensorflow/python/eager/function.py\u001b[0m in \u001b[0;36m__call__\u001b[0;34m(self, *args, **kwargs)\u001b[0m\n\u001b[1;32m   2418\u001b[0m     \u001b[0;32mwith\u001b[0m \u001b[0mself\u001b[0m\u001b[0;34m.\u001b[0m\u001b[0m_lock\u001b[0m\u001b[0;34m:\u001b[0m\u001b[0;34m\u001b[0m\u001b[0;34m\u001b[0m\u001b[0m\n\u001b[1;32m   2419\u001b[0m       \u001b[0mgraph_function\u001b[0m\u001b[0;34m,\u001b[0m \u001b[0margs\u001b[0m\u001b[0;34m,\u001b[0m \u001b[0mkwargs\u001b[0m \u001b[0;34m=\u001b[0m \u001b[0mself\u001b[0m\u001b[0;34m.\u001b[0m\u001b[0m_maybe_define_function\u001b[0m\u001b[0;34m(\u001b[0m\u001b[0margs\u001b[0m\u001b[0;34m,\u001b[0m \u001b[0mkwargs\u001b[0m\u001b[0;34m)\u001b[0m\u001b[0;34m\u001b[0m\u001b[0;34m\u001b[0m\u001b[0m\n\u001b[0;32m-> 2420\u001b[0;31m     \u001b[0;32mreturn\u001b[0m \u001b[0mgraph_function\u001b[0m\u001b[0;34m.\u001b[0m\u001b[0m_filtered_call\u001b[0m\u001b[0;34m(\u001b[0m\u001b[0margs\u001b[0m\u001b[0;34m,\u001b[0m \u001b[0mkwargs\u001b[0m\u001b[0;34m)\u001b[0m  \u001b[0;31m# pylint: disable=protected-access\u001b[0m\u001b[0;34m\u001b[0m\u001b[0;34m\u001b[0m\u001b[0m\n\u001b[0m\u001b[1;32m   2421\u001b[0m \u001b[0;34m\u001b[0m\u001b[0m\n\u001b[1;32m   2422\u001b[0m   \u001b[0;34m@\u001b[0m\u001b[0mproperty\u001b[0m\u001b[0;34m\u001b[0m\u001b[0;34m\u001b[0m\u001b[0m\n",
      "\u001b[0;32m/Users/Ares/anaconda3/lib/python3.7/site-packages/tensorflow/python/eager/function.py\u001b[0m in \u001b[0;36m_filtered_call\u001b[0;34m(self, args, kwargs)\u001b[0m\n\u001b[1;32m   1663\u001b[0m          if isinstance(t, (ops.Tensor,\n\u001b[1;32m   1664\u001b[0m                            resource_variable_ops.BaseResourceVariable))),\n\u001b[0;32m-> 1665\u001b[0;31m         self.captured_inputs)\n\u001b[0m\u001b[1;32m   1666\u001b[0m \u001b[0;34m\u001b[0m\u001b[0m\n\u001b[1;32m   1667\u001b[0m   \u001b[0;32mdef\u001b[0m \u001b[0m_call_flat\u001b[0m\u001b[0;34m(\u001b[0m\u001b[0mself\u001b[0m\u001b[0;34m,\u001b[0m \u001b[0margs\u001b[0m\u001b[0;34m,\u001b[0m \u001b[0mcaptured_inputs\u001b[0m\u001b[0;34m,\u001b[0m \u001b[0mcancellation_manager\u001b[0m\u001b[0;34m=\u001b[0m\u001b[0;32mNone\u001b[0m\u001b[0;34m)\u001b[0m\u001b[0;34m:\u001b[0m\u001b[0;34m\u001b[0m\u001b[0;34m\u001b[0m\u001b[0m\n",
      "\u001b[0;32m/Users/Ares/anaconda3/lib/python3.7/site-packages/tensorflow/python/eager/function.py\u001b[0m in \u001b[0;36m_call_flat\u001b[0;34m(self, args, captured_inputs, cancellation_manager)\u001b[0m\n\u001b[1;32m   1744\u001b[0m       \u001b[0;31m# No tape is watching; skip to running the function.\u001b[0m\u001b[0;34m\u001b[0m\u001b[0;34m\u001b[0m\u001b[0;34m\u001b[0m\u001b[0m\n\u001b[1;32m   1745\u001b[0m       return self._build_call_outputs(self._inference_function.call(\n\u001b[0;32m-> 1746\u001b[0;31m           ctx, args, cancellation_manager=cancellation_manager))\n\u001b[0m\u001b[1;32m   1747\u001b[0m     forward_backward = self._select_forward_and_backward_functions(\n\u001b[1;32m   1748\u001b[0m         \u001b[0margs\u001b[0m\u001b[0;34m,\u001b[0m\u001b[0;34m\u001b[0m\u001b[0;34m\u001b[0m\u001b[0m\n",
      "\u001b[0;32m/Users/Ares/anaconda3/lib/python3.7/site-packages/tensorflow/python/eager/function.py\u001b[0m in \u001b[0;36mcall\u001b[0;34m(self, ctx, args, cancellation_manager)\u001b[0m\n\u001b[1;32m    596\u001b[0m               \u001b[0minputs\u001b[0m\u001b[0;34m=\u001b[0m\u001b[0margs\u001b[0m\u001b[0;34m,\u001b[0m\u001b[0;34m\u001b[0m\u001b[0;34m\u001b[0m\u001b[0m\n\u001b[1;32m    597\u001b[0m               \u001b[0mattrs\u001b[0m\u001b[0;34m=\u001b[0m\u001b[0mattrs\u001b[0m\u001b[0;34m,\u001b[0m\u001b[0;34m\u001b[0m\u001b[0;34m\u001b[0m\u001b[0m\n\u001b[0;32m--> 598\u001b[0;31m               ctx=ctx)\n\u001b[0m\u001b[1;32m    599\u001b[0m         \u001b[0;32melse\u001b[0m\u001b[0;34m:\u001b[0m\u001b[0;34m\u001b[0m\u001b[0;34m\u001b[0m\u001b[0m\n\u001b[1;32m    600\u001b[0m           outputs = execute.execute_with_cancellation(\n",
      "\u001b[0;32m/Users/Ares/anaconda3/lib/python3.7/site-packages/tensorflow/python/eager/execute.py\u001b[0m in \u001b[0;36mquick_execute\u001b[0;34m(op_name, num_outputs, inputs, attrs, ctx, name)\u001b[0m\n\u001b[1;32m     58\u001b[0m     \u001b[0mctx\u001b[0m\u001b[0;34m.\u001b[0m\u001b[0mensure_initialized\u001b[0m\u001b[0;34m(\u001b[0m\u001b[0;34m)\u001b[0m\u001b[0;34m\u001b[0m\u001b[0;34m\u001b[0m\u001b[0m\n\u001b[1;32m     59\u001b[0m     tensors = pywrap_tfe.TFE_Py_Execute(ctx._handle, device_name, op_name,\n\u001b[0;32m---> 60\u001b[0;31m                                         inputs, attrs, num_outputs)\n\u001b[0m\u001b[1;32m     61\u001b[0m   \u001b[0;32mexcept\u001b[0m \u001b[0mcore\u001b[0m\u001b[0;34m.\u001b[0m\u001b[0m_NotOkStatusException\u001b[0m \u001b[0;32mas\u001b[0m \u001b[0me\u001b[0m\u001b[0;34m:\u001b[0m\u001b[0;34m\u001b[0m\u001b[0;34m\u001b[0m\u001b[0m\n\u001b[1;32m     62\u001b[0m     \u001b[0;32mif\u001b[0m \u001b[0mname\u001b[0m \u001b[0;32mis\u001b[0m \u001b[0;32mnot\u001b[0m \u001b[0;32mNone\u001b[0m\u001b[0;34m:\u001b[0m\u001b[0;34m\u001b[0m\u001b[0;34m\u001b[0m\u001b[0m\n",
      "\u001b[0;31mKeyboardInterrupt\u001b[0m: "
     ]
=======
     "data": {
      "text/plain": [
       "<tensorflow.python.keras.callbacks.History at 0x7fac75186ed0>"
      ]
     },
     "execution_count": 61,
     "metadata": {},
     "output_type": "execute_result"
>>>>>>> 3f7f041885a6ffb3996fa5c2424ced5e93059e78
    }
   ],
   "source": [
    "training_set_size = len(encoder_input_train)\n",
    "validation_set_size = len(encoder_input_val)\n",
    "batch_size = 256\n",
    "epochs = 2\n",
    "\n",
    "model.fit_generator(generator=generate_batch(encoder_input_train, decoder_input_train, batch_size=batch_size),\n",
    "                    steps_per_epoch=training_set_size//batch_size,\n",
    "                    epochs=epochs,\n",
    "                    validation_data=generate_batch(encoder_input_val, decoder_input_val, batch_size=batch_size),\n",
    "                    validation_steps=validation_set_size//batch_size)"
   ]
<<<<<<< HEAD
  },
  {
   "cell_type": "code",
   "execution_count": null,
   "metadata": {},
   "outputs": [],
   "source": [
    "# Inference Setup\n",
    "\n",
    "# Defining the encoder model \n",
    "encoder = Model(encoder_input, encoder_states)\n",
    "\n"
   ]
=======
>>>>>>> 3f7f041885a6ffb3996fa5c2424ced5e93059e78
  }
 ],
 "metadata": {
  "kernelspec": {
   "display_name": "Python 3",
   "language": "python",
   "name": "python3"
  },
  "language_info": {
   "codemirror_mode": {
    "name": "ipython",
    "version": 3
   },
   "file_extension": ".py",
   "mimetype": "text/x-python",
   "name": "python",
   "nbconvert_exporter": "python",
   "pygments_lexer": "ipython3",
   "version": "3.7.6"
  }
 },
 "nbformat": 4,
 "nbformat_minor": 2
}
