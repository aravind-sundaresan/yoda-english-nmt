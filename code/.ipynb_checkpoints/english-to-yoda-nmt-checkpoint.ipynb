{
 "cells": [
  {
   "cell_type": "code",
   "execution_count": 37,
   "metadata": {},
   "outputs": [],
   "source": [
    "import numpy as np\n",
    "import tensorflow as tf\n",
    "from sklearn.model_selection import train_test_split"
   ]
  },
  {
   "cell_type": "markdown",
   "metadata": {},
   "source": [
    "## Data Preparation "
   ]
  },
  {
   "cell_type": "code",
   "execution_count": 3,
   "metadata": {},
   "outputs": [],
   "source": [
    "# Creating 2 dictionaries each (word-index and index-word) for the source and target languages\n",
    "\n",
    "with open('../data/english_vocabulary.txt', 'r') as f:\n",
    "  words = f.readlines()\n",
    "\n",
    "english_index_to_word_dict = dict([(index, word.rstrip('\\n')) for index, word in enumerate(words)])\n",
    "english_word_to_index_dict = dict([(word.rstrip('\\n'), index) for index, word in enumerate(words)])\n",
    "\n",
    "with open('../data/yoda_vocabulary.txt', 'r') as f:\n",
    "  words = f.readlines()\n",
    "\n",
    "yoda_index_to_word_dict = dict([(index, word.rstrip('\\n')) for index, word in enumerate(words)])\n",
    "yoda_word_to_index_dict = dict([(word.rstrip('\\n'), index) for index, word in enumerate(words)])\n",
    "\n",
    "# Obtaining the number of unique tokens in each vocabulary\n",
    "english_vocab_length = len(english_word_to_index_dict)\n",
    "yoda_vocab_length = len(yoda_word_to_index_dict)\n",
    "\n",
    "'''\n",
    "Limiting the lengths of the sequences (in terms of number of words) in both the source and target languages \n",
    "For source language, max. length = 15 (97% of the sentences have length <= 15)\n",
    "For target language, max. length = 20 (97% of the sentence have length <= 20)\n",
    "'''\n",
    "max_length_source, max_length_target = 15, 20 \n",
    "\n",
    "english_sentences, yoda_english_sentences = [], []\n",
    "with open('../data/english_sentences.txt', 'r') as fp: \n",
    "  line = fp.readline()\n",
    "  while line:\n",
    "    line = line.rstrip(\"\\n\")\n",
    "    english_sentences.append([int(token) for token in line.split(\" \")])\n",
    "    line = fp.readline()\n",
    "\n",
    "with open('../data/yoda_english_sentences.txt', 'r') as fp:\n",
    "  line = fp.readline()\n",
    "  while line:\n",
    "    # Adding the start and end tokens to the target sentences\n",
    "    line = \"1 \" + line.rstrip(\"\\n\") + \" 2\"\n",
    "    yoda_english_sentences.append([int(token) for token in line.split(\" \")])\n",
    "    line = fp.readline() \n",
    "\n",
    "\n",
    "# Padding the source and target sentences to ensure that all of them have the same length\n",
    "encoder_input = tf.keras.preprocessing.sequence.pad_sequences(english_sentences, maxlen=max_length_source, padding='post')\n",
    "decoder_input = tf.keras.preprocessing.sequence.pad_sequences(yoda_english_sentences, maxlen=max_length_target, padding='post')\n",
    "\n",
    "'''\n",
    " The output of the decoder uses the one-hot representation of each word in a sentence because the output of the seq2seq model\n",
    " is obtained from a softmax unit. \n",
    " The size of the decoder output sentence would be (max_length_target, yoda_vocab_length).\n",
    " The decoder output does not start with the \"_GO\" token. The rest of the content is the same as that of decoder input. \n",
    " So the decoder output can be defined as the decoder input shifted or offset by one timestep.\n",
    "'''\n",
    "number_of_sentences = len(decoder_input)\n",
    "decoder_output = np.zeros((number_of_sentences, max_length_target, yoda_vocab_length), dtype='float32')\n",
    "\n",
    "for i in range(number_of_sentences):\n",
    "    for j in range(1, max_length_target):\n",
    "        decoder_output[i, j - 1, decoder_input[i, j]] = 1"
   ]
  },
  {
   "cell_type": "code",
   "execution_count": null,
   "metadata": {},
   "outputs": [],
   "source": []
  }
 ],
 "metadata": {
  "kernelspec": {
   "display_name": "Python 3",
   "language": "python",
   "name": "python3"
  },
  "language_info": {
   "codemirror_mode": {
    "name": "ipython",
    "version": 3
   },
   "file_extension": ".py",
   "mimetype": "text/x-python",
   "name": "python",
   "nbconvert_exporter": "python",
   "pygments_lexer": "ipython3",
   "version": "3.7.3"
  }
 },
 "nbformat": 4,
 "nbformat_minor": 2
}
